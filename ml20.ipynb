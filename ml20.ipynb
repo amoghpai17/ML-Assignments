{
 "cells": [
  {
   "cell_type": "markdown",
   "id": "abc7af61",
   "metadata": {},
   "source": [
    "1.What is the underlying concept of Support Vector Machines?\n",
    "\n",
    "ANS-\n",
    "Support Vector Machines (SVMs) are a type of supervised learning algorithm used for classification and regression analysis. The underlying concept of SVMs is to find a hyperplane (a line or a plane in high-dimensional space) that best separates the data points of different classes. The hyperplane is selected such that the margin between the closest data points of each class is maximized. These closest data points are called support vectors.\n",
    "\n",
    "The margin is defined as the distance between the hyperplane and the closest data points of each class. Maximizing the margin helps to ensure that the SVM has good generalization performance, meaning that it is less likely to overfit the training data.\n",
    "\n",
    "SVMs can be used for both linearly separable and non-linearly separable data. For non-linearly separable data, SVMs can use a technique called kernel trick to transform the data into a higher-dimensional space where a hyperplane can be found to separate the data.\n",
    "\n"
   ]
  },
  {
   "cell_type": "markdown",
   "id": "c0de0b9b",
   "metadata": {},
   "source": [
    "2.What is the concept of a support vector?\n",
    "\n",
    "ANS-\n",
    "In Support Vector Machines (SVMs), support vectors are the data points that lie closest to the decision boundary, or hyperplane, that separates the different classes in the dataset. The decision boundary is the line or plane that separates the data points of one class from another in the feature space.\n",
    "\n",
    "The support vectors play a crucial role in SVMs as they are used to construct the decision boundary. The distance between the support vectors and the decision boundary is known as the margin, and the goal of SVMs is to find the hyperplane with the maximum margin.\n",
    "\n"
   ]
  },
  {
   "cell_type": "markdown",
   "id": "c8510f80",
   "metadata": {},
   "source": [
    "3.When using SVMs, why is it necessary to scale the inputs?\n",
    "\n",
    "ANS-\n",
    "When using Support Vector Machines (SVMs), it is often necessary to scale the inputs, meaning to transform the input data so that all the features have a similar scale or range of values. This is because SVMs are sensitive to the scale of the input features, and if the features have different scales, it can affect the performance of the algorithm.\n",
    "\n",
    "If the input features have different scales, then the feature with the largest scale will dominate the optimization process, and the features with smaller scales may be ignored. This can result in suboptimal performance of the SVM model. In addition, the optimization process of SVMs involves computing the distance between data points, and this distance will be influenced by the scale of the input features.\n",
    "\n",
    "Scaling the inputs helps to ensure that all the features have a similar influence on the optimization process and the distance calculation. This can lead to improved performance and faster convergence of the SVM algorithm."
   ]
  },
  {
   "cell_type": "markdown",
   "id": "906a9253",
   "metadata": {},
   "source": [
    "4.When an SVM classifier classifies a case, can it output a confidence score? What about a\n",
    "percentage chance?\n",
    "\n",
    "ANS-\n",
    "Yes, an SVM classifier can output a confidence score, which can be interpreted as a measure of the classifier's confidence in its prediction. The confidence score is based on the distance of the data point from the decision boundary or hyperplane. Data points that are closer to the decision boundary have a lower confidence score, while those that are further away have a higher confidence score.\n",
    "\n",
    "In SVM classification, the output of the classifier is a binary value indicating the predicted class label, either positive or negative. However, it is possible to obtain a probability or percentage chance of the predicted class label by using a technique called Platt scaling or probability calibration. This technique involves training a logistic regression model on the outputs of the SVM classifier and using it to estimate the probability or percentage chance of the predicted class label."
   ]
  },
  {
   "cell_type": "markdown",
   "id": "5f09e6ce",
   "metadata": {},
   "source": [
    "5.Should you train a model on a training set with millions of instances and hundreds of features\n",
    "using the primal or dual form of the SVM problem?\n",
    "\n",
    "ANS-\n",
    "When training a model on a training set with millions of instances and hundreds of features using SVMs, the choice between the primal and dual form of the SVM problem depends on various factors, including the computational resources available, the sparsity of the data, and the choice of kernel.\n",
    "\n",
    "In general, for large-scale datasets with many features, the dual form of the SVM problem is often preferred because it can be more computationally efficient than the primal form. The dual form of the SVM problem involves computing a set of Lagrange multipliers for each training instance, and the resulting optimization problem involves only the dot products of the input data, which can be precomputed and stored in memory. This makes it possible to train SVMs on large datasets without the need to store the entire dataset in memory.\n",
    "\n",
    "However, if the dataset is not sparse and the number of features is small, then the primal form of the SVM problem may be more efficient. The primal form involves directly optimizing the SVM objective function with respect to the weight vector and bias term, without using Lagrange multipliers.\n",
    "\n",
    "In addition, the choice of kernel can also influence the choice between the primal and dual form of the SVM problem. Some kernels, such as the linear kernel, are more suitable for the primal form, while others, such as the radial basis function (RBF) kernel, are more suitable for the dual form.\n",
    "\n",
    "Ultimately, the choice between the primal and dual form of the SVM problem should be based on careful experimentation and analysis of the computational resources available, the sparsity of the data, and the choice of kernel."
   ]
  },
  {
   "cell_type": "markdown",
   "id": "c099c7df",
   "metadata": {},
   "source": [
    "6.Let's say you've used an RBF kernel to train an SVM classifier, but it appears to underfit the\n",
    "training collection. Is it better to raise or lower (gamma)? What about the letter C?\n",
    "\n",
    "ANS-\n",
    "If an SVM classifier with an RBF kernel appears to underfit the training collection, there are several options to consider to improve its performance. Two of the main parameters of an SVM with an RBF kernel are the gamma parameter and the C parameter.\n",
    "\n",
    "The gamma parameter controls the width of the RBF kernel, which in turn affects the degree of flexibility or complexity of the decision boundary. A low gamma value makes the decision boundary smoother and more linear, while a high gamma value makes it more complex and more likely to overfit the training data. Therefore, if the SVM classifier underfits the training collection, it may be beneficial to increase the gamma value to make the decision boundary more complex and better fit the data.\n",
    "\n",
    "On the other hand, the C parameter controls the trade-off between maximizing the margin and minimizing the classification error. A small C value allows for a wider margin and may lead to underfitting, while a large C value focuses on minimizing the classification error and may lead to overfitting. Therefore, if the SVM classifier underfits the training collection, it may be beneficial to decrease the C value to allow for a wider margin and a simpler decision boundary."
   ]
  },
  {
   "cell_type": "markdown",
   "id": "b0ea6edf",
   "metadata": {},
   "source": [
    "7.To solve the soft margin linear SVM classifier problem with an off-the-shelf QP solver, how should\n",
    "the QP parameters (H, f, A, and b) be set?\n",
    "\n",
    "ANS-\n",
    "To solve the soft margin linear SVM classifier problem with an off-the-shelf QP solver, the QP parameters (H, f, A, and b) need to be set based on the following formulation:\n",
    "\n",
    "minimize 1/2 * ||w||^2 + C * sum(xi)\n",
    "subject to yi(w^T xi + b) >= 1 - xi for i = 1, ..., n\n",
    "xi >= 0 for i = 1, ..., n\n",
    "\n",
    "where:\n",
    "\n",
    "w is the weight vector\n",
    "xi is the slack variable for the ith training instance\n",
    "C is the regularization parameter that controls the trade-off between maximizing the margin and minimizing the classification error\n",
    "yi is the class label of the ith training instance (+1 or -1)\n",
    "b is the bias term\n",
    "\n",
    "The QP parameters can be set as follows:\n",
    "\n",
    "H: n x n identity matrix multiplied by C (i.e., H = diag([C, ..., C]))\n",
    "f: n x 1 zero vector\n",
    "A: n x (n+1) matrix where the first n columns are -yi * xi and the last column is -yi\n",
    "b: n x 1 vector of -1\n",
    "Note that in the above formulation, xi >= 0 constraints are included to ensure that the slack variables are non-negative.\n",
    "\n",
    "Once the QP parameters are set, they can be passed to an off-the-shelf QP solver, which will return the weight vector w and the bias term b that define the decision boundary of the soft margin linear SVM classifier."
   ]
  },
  {
   "cell_type": "markdown",
   "id": "340455b7",
   "metadata": {},
   "source": [
    "8.On a linearly separable dataset, train a LinearSVC. Then, using the same dataset, train an SVC and\n",
    "an SGDClassifier. See if you can get them to make a model that is similar to yours.\n",
    "\n",
    "ANS-"
   ]
  },
  {
   "cell_type": "code",
   "execution_count": 5,
   "id": "2c1577be",
   "metadata": {},
   "outputs": [
    {
     "name": "stdout",
     "output_type": "stream",
     "text": [
      "LinearSVC accuracy: 1.000\n",
      "SVC accuracy: 1.000\n",
      "SGDClassifier accuracy: 1.000\n"
     ]
    }
   ],
   "source": [
    "from sklearn.datasets import make_classification\n",
    "from sklearn.svm import LinearSVC, SVC\n",
    "from sklearn.linear_model import SGDClassifier\n",
    "from sklearn.model_selection import train_test_split\n",
    "from sklearn.metrics import accuracy_score\n",
    "\n",
    "# Generate a linearly separable dataset\n",
    "X, y = make_classification(n_samples=1000, n_features=5, n_informative=5, n_redundant=0, n_clusters_per_class=1, random_state=42, class_sep=2.0)\n",
    "\n",
    "# Split the dataset into training and test sets\n",
    "X_train, X_test, y_train, y_test = train_test_split(X, y, test_size=0.2, random_state=42)\n",
    "\n",
    "# Train a LinearSVC\n",
    "linear_svc = LinearSVC()\n",
    "linear_svc.fit(X_train, y_train)\n",
    "\n",
    "# Train an SVC with a linear kernel\n",
    "svc = SVC(kernel='linear')\n",
    "svc.fit(X_train, y_train)\n",
    "\n",
    "# Train an SGDClassifier with hinge loss and l2 regularization\n",
    "sgd = SGDClassifier(loss='hinge', penalty='l2', random_state=42)\n",
    "sgd.fit(X_train, y_train)\n",
    "\n",
    "# Evaluate the models on the test set\n",
    "linear_svc_acc = accuracy_score(y_test, linear_svc.predict(X_test))\n",
    "svc_acc = accuracy_score(y_test, svc.predict(X_test))\n",
    "sgd_acc = accuracy_score(y_test, sgd.predict(X_test))\n",
    "\n",
    "print(\"LinearSVC accuracy: {:.3f}\".format(linear_svc_acc))\n",
    "print(\"SVC accuracy: {:.3f}\".format(svc_acc))\n",
    "print(\"SGDClassifier accuracy: {:.3f}\".format(sgd_acc))\n"
   ]
  },
  {
   "cell_type": "markdown",
   "id": "aff5a25d",
   "metadata": {},
   "source": [
    "9.On the MNIST dataset, train an SVM classifier. You'll need to use one-versus-the-rest to assign all\n",
    "10 digits because SVM classifiers are binary classifiers. To accelerate up the process, you might want\n",
    "to tune the hyperparameters using small validation sets. What level of precision can you achieve?\n",
    "\n",
    "ANS-"
   ]
  },
  {
   "cell_type": "code",
   "execution_count": null,
   "id": "c9282128",
   "metadata": {},
   "outputs": [],
   "source": [
    "from sklearn.datasets import fetch_openml\n",
    "from sklearn.model_selection import train_test_split\n",
    "from sklearn.svm import SVC\n",
    "from sklearn.metrics import precision_score\n",
    "\n",
    "# Load the MNIST dataset\n",
    "mnist = fetch_openml('mnist_784', version=1)\n",
    "X, y = mnist['data'], mnist['target']\n",
    "\n",
    "# Split the dataset into training and test sets\n",
    "X_train, X_test, y_train, y_test = train_test_split(X, y, test_size=0.2, random_state=42)\n",
    "\n",
    "# Train an SVM classifier with a radial basis function (RBF) kernel\n",
    "svm_clf = SVC(kernel='rbf', decision_function_shape='ovr', random_state=42)\n",
    "\n",
    "# Tune the hyperparameters using a small validation set\n",
    "X_train_small, X_val, y_train_small, y_val = train_test_split(X_train, y_train, test_size=0.2, random_state=42)\n",
    "\n",
    "# Perform a grid search to find the best hyperparameters\n",
    "param_grid = {\n",
    "    'C': [0.1, 1, 10],\n",
    "    'gamma': [0.01, 0.1, 1]\n",
    "}\n",
    "grid_search = GridSearchCV(svm_clf, param_grid, cv=3, n_jobs=-1)\n",
    "grid_search.fit(X_train_small, y_train_small)\n",
    "\n",
    "# Train the SVM classifier with the best hyperparameters on the full training set\n",
    "best_svm_clf = grid_search.best_estimator_\n",
    "best_svm_clf.fit(X_train, y_train)\n",
    "\n",
    "# Evaluate the SVM classifier on the test set\n",
    "y_pred = best_svm_clf.predict(X_test)\n",
    "precision = precision_score(y_test, y_pred, average='weighted')\n",
    "\n",
    "print(\"Precision: {:.3f}\".format(precision))\n"
   ]
  },
  {
   "cell_type": "markdown",
   "id": "c8152075",
   "metadata": {},
   "source": [
    "10.On the California housing dataset, train an SVM regressor.\n",
    "\n",
    "ANS-\n"
   ]
  },
  {
   "cell_type": "code",
   "execution_count": null,
   "id": "3d94bf9b",
   "metadata": {},
   "outputs": [],
   "source": [
    "from sklearn.datasets import fetch_california_housing\n",
    "from sklearn.model_selection import train_test_split\n",
    "from sklearn.svm import SVR\n",
    "from sklearn.metrics import mean_squared_error\n",
    "\n",
    "# Load the California housing dataset\n",
    "housing = fetch_california_housing()\n",
    "X, y = housing['data'], housing['target']\n",
    "\n",
    "# Split the dataset into training and test sets\n",
    "X_train, X_test, y_train, y_test = train_test_split(X, y, test_size=0.2, random_state=42)\n",
    "\n",
    "# Train an SVM regressor with a radial basis function (RBF) kernel\n",
    "svm_reg = SVR(kernel='rbf')\n",
    "svm_reg.fit(X_train, y_train)\n",
    "\n",
    "# Evaluate the SVM regressor on the test set\n",
    "y_pred = svm_reg.predict(X_test)\n",
    "mse = mean_squared_error(y_test, y_pred)\n",
    "\n",
    "print(\"MSE: {:.2f}\".format(mse))\n"
   ]
  },
  {
   "cell_type": "code",
   "execution_count": null,
   "id": "1a76d446",
   "metadata": {},
   "outputs": [],
   "source": []
  }
 ],
 "metadata": {
  "kernelspec": {
   "display_name": "Python 3 (ipykernel)",
   "language": "python",
   "name": "python3"
  },
  "language_info": {
   "codemirror_mode": {
    "name": "ipython",
    "version": 3
   },
   "file_extension": ".py",
   "mimetype": "text/x-python",
   "name": "python",
   "nbconvert_exporter": "python",
   "pygments_lexer": "ipython3",
   "version": "3.9.7"
  }
 },
 "nbformat": 4,
 "nbformat_minor": 5
}
