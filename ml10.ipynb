{
 "cells": [
  {
   "cell_type": "markdown",
   "id": "f0b6213c",
   "metadata": {},
   "source": [
    "1.Define the Bayesian interpretation of probability.\n",
    "\n",
    "ANS-\n",
    "The Bayesian interpretation of probability is a framework for understanding probability in terms of subjective beliefs or degrees of confidence rather than as a frequency of occurrence in a long series of trials. According to this interpretation, probability is a measure of the degree of belief or uncertainty that an individual has about the likelihood of an event occurring, given their available information and prior beliefs."
   ]
  },
  {
   "cell_type": "markdown",
   "id": "478d7d5c",
   "metadata": {},
   "source": [
    "2.Define probability of a union of two events with equation.\n",
    "\n",
    "ANS-\n",
    "The probability of the union of two events A and B is the probability that either event A occurs, or event B occurs, or both events A and B occur. The probability of the union of two events is denoted by P(A ∪ B) and can be calculated using the following formula:\n",
    "\n",
    "P(A ∪ B) = P(A) + P(B) - P(A ∩ B)"
   ]
  },
  {
   "cell_type": "markdown",
   "id": "f86f249a",
   "metadata": {},
   "source": [
    "3.What is joint probability? What is its formula?\n",
    "\n",
    "ANS-\n",
    "Joint probability is a measure of the probability of two or more events occurring simultaneously. In other words, it is the probability that both events A and B occur together, or the probability that events A and B and C and so on, all occur together. Joint probability is denoted by P(A,B) and is calculated using the following formula:\n",
    "\n",
    "P(A,B) = P(A ∩ B)"
   ]
  },
  {
   "cell_type": "markdown",
   "id": "f7aff01c",
   "metadata": {},
   "source": [
    "4.What is chain rule of probability?\n",
    "\n",
    "ANS-\n",
    "The chain rule of probability, also known as the product rule, is a fundamental rule in probability theory that allows us to calculate the probability of the intersection of multiple events by breaking it down into a product of conditional probabilities.\n",
    "\n",
    "The chain rule states that the probability of the intersection of n events A1, A2, ..., An is equal to the product of the conditional probabilities of each event given the previous events, that is:\n",
    "\n",
    "P(A1 ∩ A2 ∩ ... ∩ An) = P(A1) * P(A2 | A1) * P(A3 | A1 ∩ A2) * ... * P(An | A1 ∩ A2 ∩ ... ∩ An-1)"
   ]
  },
  {
   "cell_type": "markdown",
   "id": "7e90d51f",
   "metadata": {},
   "source": [
    "5.What is conditional probability means? What is the formula of it?\n",
    "\n",
    "ANS-\n",
    "Conditional probability is a measure of the probability of an event occurring, given that another event has occurred. In other words, it is the probability of event A given that event B has already occurred. It is denoted by P(A|B) and is calculated using the following formula:\n",
    "\n",
    "P(A|B) = P(A ∩ B) / P(B)"
   ]
  },
  {
   "cell_type": "markdown",
   "id": "8e66638d",
   "metadata": {},
   "source": [
    "6.What are continuous random variables?\n",
    "\n",
    "ANS-\n",
    "A continuous random variable is a random variable that can take on any value in a continuous range of values, typically represented by an interval or a real line. Unlike discrete random variables, which can only take on a finite or countable set of values, continuous random variables can take on an infinite number of possible values within a given range."
   ]
  },
  {
   "cell_type": "markdown",
   "id": "5a48d276",
   "metadata": {},
   "source": [
    "7.What are Bernoulli distributions? What is the formula of it?\n",
    "\n",
    "ANS-\n",
    "the Bernoulli distribution is a discrete probability distribution that describes a single trial of an experiment that can have only two possible outcomes, typically denoted as success and failure, with a probability of success p and a probability of failure 1-p. \n",
    "\n",
    "P(X = 1) = p\n",
    "P(X = 0) = 1 - p"
   ]
  },
  {
   "cell_type": "markdown",
   "id": "79c1d6d3",
   "metadata": {},
   "source": [
    "8.What is binomial distribution? What is the formula?\n",
    "\n",
    "ANS-\n",
    "The binomial distribution is a discrete probability distribution that describes the number of successes in a fixed number of independent trials, each with a fixed probability of success. \n",
    "\n",
    "P(X = k) = C(n,k) * p^k * (1-p)^(n-k)"
   ]
  },
  {
   "cell_type": "markdown",
   "id": "46de3cce",
   "metadata": {},
   "source": [
    "9.What is Poisson distribution? What is the formula?\n",
    "\n",
    "ANS-\n",
    "The Poisson distribution is a discrete probability distribution that describes the number of rare events that occur in a fixed interval of time or space, given that the events occur independently and with a fixed average rate λ. \n",
    "\n",
    "P(X = k) = (e^-λ * λ^k) / k!"
   ]
  },
  {
   "cell_type": "markdown",
   "id": "da33d88d",
   "metadata": {},
   "source": [
    "10.Define covariance.\n",
    "\n",
    "ANS-\n",
    " covariance is a measure of the linear association between two random variables X and Y. It measures how much the two variables vary together, in the sense that if one variable takes a high (or low) value, the other variable tends to take a high (or low) value as well. Formally, the covariance between X and Y is defined as:\n",
    "\n",
    "cov(X,Y) = E[(X - E(X)) * (Y - E(Y))]"
   ]
  },
  {
   "cell_type": "markdown",
   "id": "e363cc5e",
   "metadata": {},
   "source": [
    "11.Define correlation\n",
    "\n",
    "ANS-\n",
    "In statistics, correlation is a measure of the strength and direction of the linear association between two random variables X and Y. It measures how much the two variables are related to each other, in the sense that if one variable takes a high (or low) value, the other variable tends to take a high (or low) value as well. Formally, the correlation between X and Y is defined as:\n",
    "\n",
    "cor(X,Y) = cov(X,Y) / (SD(X) * SD(Y))"
   ]
  },
  {
   "cell_type": "markdown",
   "id": "698f4677",
   "metadata": {},
   "source": [
    "12.Define sampling with replacement. Give example.\n",
    "\n",
    "ANS-\n",
    "Sampling with replacement is a method of drawing a sample from a population in which each member of the population has an equal chance of being selected, and once selected, is returned to the population before the next selection is made. This means that the same individual can be selected more than once, and each selection is independent of the previous selections.\n",
    "For example, suppose we want to estimate the proportion of red, green, and blue marbles in a jar containing 100 marbles, without knowing the actual proportions. We could use sampling with replacement to draw a sample of, say, 10 marbles from the jar. We would select one marble at a time, record its color, return it to the jar, and then select another marble, and so on, until we have selected 10 marbles. We could then count the number of red, green, and blue marbles in the sample, and use these counts to estimate the proportions in the population. If we wanted to repeat the sampling process, we would return all 10 marbles to the jar before drawing the next sample, so that each marble has an equal chance of being selected again."
   ]
  },
  {
   "cell_type": "markdown",
   "id": "6688ab70",
   "metadata": {},
   "source": [
    "13.What is sampling without replacement? Give example.\n",
    "\n",
    "ANS-\n",
    "Sampling without replacement is a method of drawing a sample from a population in which each member of the population has an equal chance of being selected, but once selected, is not returned to the population before the next selection is made. This means that each individual can be selected only once, and each selection affects the probability of subsequent selections.\n",
    "For example, suppose we want to estimate the mean weight of apples in a basket containing 20 apples, without knowing the actual weights. We could use sampling without replacement to draw a sample of, say, 10 apples from the basket. We would select one apple at a time, record its weight, and then set it aside, so that it is not included in the next selection. This means that each subsequent selection has a slightly different probability of being selected, since the probability of selecting any given apple depends on whether it has already been selected or not. We could then calculate the mean weight of the 10 sampled apples and use it to estimate the mean weight of all 20 apples in the basket. If we wanted to repeat the sampling process, we would not return the apples to the basket, and we would have to adjust the probabilities of subsequent selections accordingly."
   ]
  },
  {
   "cell_type": "markdown",
   "id": "81f4a8fe",
   "metadata": {},
   "source": [
    "14.What is hypothesis? Give example.\n",
    "\n",
    "ANS-\n",
    "A hypothesis is a tentative explanation or proposition about a phenomenon, based on limited evidence and subject to further testing and refinement. It is a statement or claim that can be tested through empirical observation, data collection, and statistical analysis, with the aim of supporting or refuting the hypothesis.\n",
    "\n",
    "For example, suppose a researcher is interested in whether a new drug is effective in treating a certain medical condition. The researcher might formulate a hypothesis that states: \"The new drug reduces the symptoms of the medical condition in patients more effectively than the current standard treatment.\" The researcher would then design a study to test this hypothesis, by randomly assigning patients to receive either the new drug or the standard treatment, and measuring their symptoms over a period of time. If the results of the study show that patients who received the new drug had significantly better outcomes than those who received the standard treatment, the hypothesis would be supported. However, if the results do not show a significant difference between the two treatments, the hypothesis would be refuted, and the researcher would need to revise or reformulate the hypothesis for further testing."
   ]
  }
 ],
 "metadata": {
  "kernelspec": {
   "display_name": "Python 3 (ipykernel)",
   "language": "python",
   "name": "python3"
  },
  "language_info": {
   "codemirror_mode": {
    "name": "ipython",
    "version": 3
   },
   "file_extension": ".py",
   "mimetype": "text/x-python",
   "name": "python",
   "nbconvert_exporter": "python",
   "pygments_lexer": "ipython3",
   "version": "3.9.7"
  }
 },
 "nbformat": 4,
 "nbformat_minor": 5
}
