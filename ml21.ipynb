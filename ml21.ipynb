{
 "cells": [
  {
   "cell_type": "markdown",
   "id": "858679ac",
   "metadata": {},
   "source": [
    "1.What is the estimated depth of a Decision Tree trained (unrestricted) on a one million instance\n",
    "training set?\n",
    "\n",
    "ANS-\n",
    "The estimated depth of a Decision Tree trained on a one million instance training set can vary greatly depending on the complexity of the data and the parameters used for the tree. However, in general, an unrestricted Decision Tree trained on such a large dataset could have a very deep tree, potentially hundreds or thousands of levels deep.\n",
    "\n",
    "In fact, without any restrictions on the tree depth, it is possible that the tree could become very large and overfit the training data, resulting in poor generalization to new, unseen data. Therefore, it is common to use techniques such as pruning, regularization, or limiting the maximum depth of the tree to prevent overfitting and improve performance on new data."
   ]
  },
  {
   "cell_type": "markdown",
   "id": "49898773",
   "metadata": {},
   "source": [
    "2.Is the Gini impurity of a node usually lower or higher than that of its parent? Is it always\n",
    "lower/greater, or is it usually lower/greater?\n",
    "\n",
    "ANS-\n",
    "The Gini impurity of a node in a decision tree can be either lower or higher than that of its parent, depending on the characteristics of the data being split.\n",
    "\n",
    "When a node is split into child nodes, the Gini impurity of the child nodes is calculated based on the distribution of the classes in the child nodes. If the split results in a more homogeneous distribution of classes in the child nodes, then the Gini impurity will decrease compared to the parent node. Conversely, if the split results in a more heterogeneous distribution of classes, then the Gini impurity will increase.\n",
    "\n",
    "In general, if the decision tree is well-designed and the data is well-behaved, we would expect the Gini impurity of child nodes to be lower than the parent node because the tree is recursively splitting the data into smaller, more homogeneous subsets. However, in some cases, a split may result in a higher Gini impurity due to noise or outliers in the data."
   ]
  },
  {
   "cell_type": "markdown",
   "id": "d8b1510d",
   "metadata": {},
   "source": [
    "3.Explain if its a good idea to reduce max depth if a Decision Tree is overfitting the training set?\n",
    "\n",
    "ANS-\n",
    "If a decision tree is overfitting the training set, it can be a good idea to reduce the maximum depth of the tree to prevent further overfitting and improve the model's generalization performance on new, unseen data.\n",
    "\n",
    "When a decision tree is overfitting, it means that the tree has learned the noise in the training data, and the model's performance on new data is likely to be worse. Reducing the maximum depth of the tree can help to simplify the model and remove unnecessary complexity, which can help to reduce overfitting and improve generalization performance.\n",
    "\n",
    "By reducing the maximum depth of the tree, we can limit the number of splits and prevent the tree from becoming too deep and complex. This can help to ensure that the model captures the most important patterns in the data without memorizing the noise in the training set.\n",
    "\n",
    "However, it's worth noting that reducing the maximum depth too much can lead to underfitting, where the model is too simple and unable to capture the underlying patterns in the data. Therefore, it's important to find the right balance between model complexity and generalization performance by tuning the model's hyperparameters, such as the maximum depth of the tree, on a validation set."
   ]
  },
  {
   "cell_type": "markdown",
   "id": "414271b0",
   "metadata": {},
   "source": [
    "4.Explain if its a good idea to try scaling the input features if a Decision Tree underfits the training\n",
    "set?\n",
    "\n",
    "ANS-\n",
    "Scaling input features is not typically recommended for decision trees because decision trees are not affected by the scale of the input features. Unlike many other machine learning algorithms, decision trees do not make assumptions about the distribution or scale of the input features.\n",
    "\n",
    "If a decision tree is underfitting the training set, it suggests that the tree is not complex enough to capture the patterns in the data. In this case, scaling the input features is unlikely to help because it does not affect the model's ability to learn complex relationships between the features and the target variable."
   ]
  },
  {
   "cell_type": "markdown",
   "id": "4ed82a94",
   "metadata": {},
   "source": [
    "5.How much time will it take to train another Decision Tree on a training set of 10 million instances\n",
    "if it takes an hour to train a Decision Tree on a training set with 1 million instances?\n",
    "\n",
    "ANS-\n",
    "It is difficult to estimate the exact amount of time it would take to train a decision tree on a training set of 10 million instances, as the time required can depend on several factors, such as the complexity of the data, the specific algorithm and hardware used, and any hyperparameter tuning required.\n",
    "\n",
    "However, we can make a rough estimate by assuming that the time required to train a decision tree on a larger dataset is roughly proportional to the size of the dataset. Based on this assumption, we can estimate that training a decision tree on a training set of 10 million instances would take approximately 10 hours (i.e., 10 times longer than training on a set of 1 million instances)."
   ]
  },
  {
   "cell_type": "markdown",
   "id": "2f50968c",
   "metadata": {},
   "source": [
    "6.Will setting presort=True speed up training if your training set has 100,000 instances?\n",
    "\n",
    "ANS-\n",
    "Setting presort=True may speed up training on a small training set, but it is unlikely to have a significant impact on training time for a dataset with 100,000 instances.\n",
    "\n",
    "When presort=True, the decision tree algorithm pre-sorts the data based on each feature's values before considering splits, which can save computation time during the training process. However, the presorting process can be computationally expensive and may not be beneficial for larger datasets, as it requires significant memory and computational resources.\n",
    "\n",
    "Therefore, in general, setting presort=True is only recommended for small datasets or datasets with a limited number of features. For larger datasets, it is typically more effective to use alternative techniques to reduce training time, such as parallel processing, subsampling, or dimensionality reduction."
   ]
  },
  {
   "cell_type": "markdown",
   "id": "1177a93d",
   "metadata": {},
   "source": [
    "7.Follow these steps to train and fine-tune a Decision Tree for the moons dataset:\n",
    "\n",
    "a. To build a moons dataset, use make moons(n samples=10000, noise=0.4).\n",
    "\n",
    "b. Divide the dataset into a training and a test collection with train test split().\n",
    "\n",
    "c. To find good hyperparameters values for a DecisionTreeClassifier, use grid search with cross-\n",
    "validation (with the GridSearchCV class). Try different values for max leaf nodes.\n",
    "\n",
    "d. Use these hyperparameters to train the model on the entire training set, and then assess its\n",
    "output on the test set. You can achieve an accuracy of 85 to 87 percent.\n",
    "\n"
   ]
  },
  {
   "cell_type": "code",
   "execution_count": 9,
   "id": "77aff3f0",
   "metadata": {},
   "outputs": [],
   "source": [
    "#To build the moons dataset with 10,000 samples and a noise level of 0.4, \n",
    "\n",
    "from sklearn.datasets import make_moons\n",
    "\n",
    "X, y = make_moons(n_samples=10000, noise=0.4)\n"
   ]
  },
  {
   "cell_type": "code",
   "execution_count": 10,
   "id": "b88fe936",
   "metadata": {},
   "outputs": [],
   "source": [
    "#Divide the dataset into a training and a test set using train_test_split():\n",
    "\n",
    "from sklearn.model_selection import train_test_split\n",
    "\n",
    "X_train, X_test, y_train, y_test = train_test_split(X, y, test_size=0.2, random_state=42)\n"
   ]
  },
  {
   "cell_type": "code",
   "execution_count": 11,
   "id": "5eee5c04",
   "metadata": {},
   "outputs": [
    {
     "data": {
      "text/html": [
       "<style>#sk-container-id-2 {color: black;background-color: white;}#sk-container-id-2 pre{padding: 0;}#sk-container-id-2 div.sk-toggleable {background-color: white;}#sk-container-id-2 label.sk-toggleable__label {cursor: pointer;display: block;width: 100%;margin-bottom: 0;padding: 0.3em;box-sizing: border-box;text-align: center;}#sk-container-id-2 label.sk-toggleable__label-arrow:before {content: \"▸\";float: left;margin-right: 0.25em;color: #696969;}#sk-container-id-2 label.sk-toggleable__label-arrow:hover:before {color: black;}#sk-container-id-2 div.sk-estimator:hover label.sk-toggleable__label-arrow:before {color: black;}#sk-container-id-2 div.sk-toggleable__content {max-height: 0;max-width: 0;overflow: hidden;text-align: left;background-color: #f0f8ff;}#sk-container-id-2 div.sk-toggleable__content pre {margin: 0.2em;color: black;border-radius: 0.25em;background-color: #f0f8ff;}#sk-container-id-2 input.sk-toggleable__control:checked~div.sk-toggleable__content {max-height: 200px;max-width: 100%;overflow: auto;}#sk-container-id-2 input.sk-toggleable__control:checked~label.sk-toggleable__label-arrow:before {content: \"▾\";}#sk-container-id-2 div.sk-estimator input.sk-toggleable__control:checked~label.sk-toggleable__label {background-color: #d4ebff;}#sk-container-id-2 div.sk-label input.sk-toggleable__control:checked~label.sk-toggleable__label {background-color: #d4ebff;}#sk-container-id-2 input.sk-hidden--visually {border: 0;clip: rect(1px 1px 1px 1px);clip: rect(1px, 1px, 1px, 1px);height: 1px;margin: -1px;overflow: hidden;padding: 0;position: absolute;width: 1px;}#sk-container-id-2 div.sk-estimator {font-family: monospace;background-color: #f0f8ff;border: 1px dotted black;border-radius: 0.25em;box-sizing: border-box;margin-bottom: 0.5em;}#sk-container-id-2 div.sk-estimator:hover {background-color: #d4ebff;}#sk-container-id-2 div.sk-parallel-item::after {content: \"\";width: 100%;border-bottom: 1px solid gray;flex-grow: 1;}#sk-container-id-2 div.sk-label:hover label.sk-toggleable__label {background-color: #d4ebff;}#sk-container-id-2 div.sk-serial::before {content: \"\";position: absolute;border-left: 1px solid gray;box-sizing: border-box;top: 0;bottom: 0;left: 50%;z-index: 0;}#sk-container-id-2 div.sk-serial {display: flex;flex-direction: column;align-items: center;background-color: white;padding-right: 0.2em;padding-left: 0.2em;position: relative;}#sk-container-id-2 div.sk-item {position: relative;z-index: 1;}#sk-container-id-2 div.sk-parallel {display: flex;align-items: stretch;justify-content: center;background-color: white;position: relative;}#sk-container-id-2 div.sk-item::before, #sk-container-id-2 div.sk-parallel-item::before {content: \"\";position: absolute;border-left: 1px solid gray;box-sizing: border-box;top: 0;bottom: 0;left: 50%;z-index: -1;}#sk-container-id-2 div.sk-parallel-item {display: flex;flex-direction: column;z-index: 1;position: relative;background-color: white;}#sk-container-id-2 div.sk-parallel-item:first-child::after {align-self: flex-end;width: 50%;}#sk-container-id-2 div.sk-parallel-item:last-child::after {align-self: flex-start;width: 50%;}#sk-container-id-2 div.sk-parallel-item:only-child::after {width: 0;}#sk-container-id-2 div.sk-dashed-wrapped {border: 1px dashed gray;margin: 0 0.4em 0.5em 0.4em;box-sizing: border-box;padding-bottom: 0.4em;background-color: white;}#sk-container-id-2 div.sk-label label {font-family: monospace;font-weight: bold;display: inline-block;line-height: 1.2em;}#sk-container-id-2 div.sk-label-container {text-align: center;}#sk-container-id-2 div.sk-container {/* jupyter's `normalize.less` sets `[hidden] { display: none; }` but bootstrap.min.css set `[hidden] { display: none !important; }` so we also need the `!important` here to be able to override the default hidden behavior on the sphinx rendered scikit-learn.org. See: https://github.com/scikit-learn/scikit-learn/issues/21755 */display: inline-block !important;position: relative;}#sk-container-id-2 div.sk-text-repr-fallback {display: none;}</style><div id=\"sk-container-id-2\" class=\"sk-top-container\"><div class=\"sk-text-repr-fallback\"><pre>GridSearchCV(cv=5, estimator=DecisionTreeClassifier(random_state=42),\n",
       "             param_grid={&#x27;max_leaf_nodes&#x27;: [2, 4, 8, 16, 32, 64]})</pre><b>In a Jupyter environment, please rerun this cell to show the HTML representation or trust the notebook. <br />On GitHub, the HTML representation is unable to render, please try loading this page with nbviewer.org.</b></div><div class=\"sk-container\" hidden><div class=\"sk-item sk-dashed-wrapped\"><div class=\"sk-label-container\"><div class=\"sk-label sk-toggleable\"><input class=\"sk-toggleable__control sk-hidden--visually\" id=\"sk-estimator-id-4\" type=\"checkbox\" ><label for=\"sk-estimator-id-4\" class=\"sk-toggleable__label sk-toggleable__label-arrow\">GridSearchCV</label><div class=\"sk-toggleable__content\"><pre>GridSearchCV(cv=5, estimator=DecisionTreeClassifier(random_state=42),\n",
       "             param_grid={&#x27;max_leaf_nodes&#x27;: [2, 4, 8, 16, 32, 64]})</pre></div></div></div><div class=\"sk-parallel\"><div class=\"sk-parallel-item\"><div class=\"sk-item\"><div class=\"sk-label-container\"><div class=\"sk-label sk-toggleable\"><input class=\"sk-toggleable__control sk-hidden--visually\" id=\"sk-estimator-id-5\" type=\"checkbox\" ><label for=\"sk-estimator-id-5\" class=\"sk-toggleable__label sk-toggleable__label-arrow\">estimator: DecisionTreeClassifier</label><div class=\"sk-toggleable__content\"><pre>DecisionTreeClassifier(random_state=42)</pre></div></div></div><div class=\"sk-serial\"><div class=\"sk-item\"><div class=\"sk-estimator sk-toggleable\"><input class=\"sk-toggleable__control sk-hidden--visually\" id=\"sk-estimator-id-6\" type=\"checkbox\" ><label for=\"sk-estimator-id-6\" class=\"sk-toggleable__label sk-toggleable__label-arrow\">DecisionTreeClassifier</label><div class=\"sk-toggleable__content\"><pre>DecisionTreeClassifier(random_state=42)</pre></div></div></div></div></div></div></div></div></div></div>"
      ],
      "text/plain": [
       "GridSearchCV(cv=5, estimator=DecisionTreeClassifier(random_state=42),\n",
       "             param_grid={'max_leaf_nodes': [2, 4, 8, 16, 32, 64]})"
      ]
     },
     "execution_count": 11,
     "metadata": {},
     "output_type": "execute_result"
    }
   ],
   "source": [
    "#Use GridSearchCV to find good hyperparameters for a DecisionTreeClassifier by trying different values for the max_leaf_nodes parameter:\n",
    "\n",
    "from sklearn.tree import DecisionTreeClassifier\n",
    "from sklearn.model_selection import GridSearchCV\n",
    "\n",
    "param_grid = {'max_leaf_nodes': [2, 4, 8, 16, 32, 64]}\n",
    "\n",
    "tree_clf = DecisionTreeClassifier(random_state=42)\n",
    "grid_search = GridSearchCV(tree_clf, param_grid, cv=5)\n",
    "grid_search.fit(X_train, y_train)\n"
   ]
  },
  {
   "cell_type": "code",
   "execution_count": 12,
   "id": "522e052b",
   "metadata": {},
   "outputs": [
    {
     "name": "stdout",
     "output_type": "stream",
     "text": [
      "Test set accuracy: 0.85\n"
     ]
    }
   ],
   "source": [
    "#Once you have found the best hyperparameters using GridSearchCV, you can train the model on the entire training set and evaluate its performance on the test set:\n",
    "\n",
    "best_params = grid_search.best_params_\n",
    "tree_clf = DecisionTreeClassifier(max_leaf_nodes=best_params['max_leaf_nodes'], random_state=42)\n",
    "tree_clf.fit(X_train, y_train)\n",
    "\n",
    "accuracy = tree_clf.score(X_test, y_test)\n",
    "print(\"Test set accuracy: {:.2f}\".format(accuracy))\n"
   ]
  },
  {
   "cell_type": "markdown",
   "id": "bbcdd5ea",
   "metadata": {},
   "source": [
    "8.Follow these steps to grow a forest:\n",
    "\n",
    "a. Using the same method as before, create 1,000 subsets of the training set, each containing\n",
    "100 instances chosen at random. You can do this with Scikit-ShuffleSplit Learn's class.\n",
    "\n",
    "b. Using the best hyperparameter values found in the previous exercise, train one Decision\n",
    "Tree on each subset. On the test collection, evaluate these 1,000 Decision Trees. These Decision\n",
    "\n",
    "Trees would likely perform worse than the first Decision Tree, achieving only around 80% accuracy,\n",
    "since they were trained on smaller sets.\n",
    "\n",
    "c. Now the magic begins. Create 1,000 Decision Tree predictions for each test set case, and\n",
    "keep only the most common prediction (you can do this with SciPy's mode() function). Over the test\n",
    "collection, this method gives you majority-vote predictions.\n",
    "\n",
    "d. On the test range, evaluate these predictions: you should achieve a slightly higher accuracy\n",
    "than the first model (approx 0.5 to 1.5 percent higher). You've successfully learned a Random Forest\n",
    "classifier!"
   ]
  },
  {
   "cell_type": "code",
   "execution_count": null,
   "id": "865ebc20",
   "metadata": {},
   "outputs": [],
   "source": [
    "# Create 1,000 subsets of the training set, each containing 100 instances chosen at random, using the ShuffleSplit class from Scikit-Learn:\n",
    "\n",
    "from sklearn.model_selection import ShuffleSplit\n",
    "\n",
    "n_trees = 1000\n",
    "n_instances = 100\n",
    "\n",
    "subsets = []\n",
    "for i in range(n_trees):\n",
    "    shuffle_split = ShuffleSplit(n_splits=1, test_size=n_instances, random_state=i)\n",
    "    indices = next(shuffle_split.split(X_train))\n",
    "    X_subset = X_train[indices]\n",
    "    y_subset = y_train[indices]\n",
    "    subsets.append((X_subset, y_subset))\n"
   ]
  },
  {
   "cell_type": "code",
   "execution_count": null,
   "id": "eeb37aa8",
   "metadata": {},
   "outputs": [],
   "source": [
    "#Train one Decision Tree on each subset using the best hyperparameter values found in the previous exercise:\n",
    "\n",
    "from sklearn.base import clone\n",
    "\n",
    "trees = []\n",
    "for X_subset, y_subset in subsets:\n",
    "    tree_clf = DecisionTreeClassifier(max_leaf_nodes=best_params['max_leaf_nodes'], random_state=42)\n",
    "    tree_clf.fit(X_subset, y_subset)\n",
    "    trees.append(tree_clf)\n"
   ]
  },
  {
   "cell_type": "code",
   "execution_count": null,
   "id": "5d3dea6a",
   "metadata": {},
   "outputs": [],
   "source": [
    "#Make 1,000 Decision Tree predictions for each test set case and keep only the most common prediction using SciPy's mode() function:\n",
    "\n",
    "from scipy.stats import mode\n",
    "\n",
    "Y_pred = np.empty([n_trees, len(X_test)])\n",
    "for i, tree in enumerate(trees):\n",
    "    Y_pred[i] = tree.predict(X_test)\n",
    "\n",
    "y_pred_majority_votes, n_votes = mode(Y_pred, axis=0)\n"
   ]
  },
  {
   "cell_type": "code",
   "execution_count": null,
   "id": "6104468f",
   "metadata": {},
   "outputs": [],
   "source": [
    "#Evaluate these predictions on the test set:\n",
    "\n",
    "from sklearn.metrics import accuracy_score\n",
    "\n",
    "accuracy = accuracy_score(y_test, y_pred_majority_votes.reshape([-1]))\n",
    "print(\"Test set accuracy: {:.2f}\".format(accuracy))\n"
   ]
  }
 ],
 "metadata": {
  "kernelspec": {
   "display_name": "Python 3 (ipykernel)",
   "language": "python",
   "name": "python3"
  },
  "language_info": {
   "codemirror_mode": {
    "name": "ipython",
    "version": 3
   },
   "file_extension": ".py",
   "mimetype": "text/x-python",
   "name": "python",
   "nbconvert_exporter": "python",
   "pygments_lexer": "ipython3",
   "version": "3.9.7"
  }
 },
 "nbformat": 4,
 "nbformat_minor": 5
}
